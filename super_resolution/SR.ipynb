{
 "cells": [
  {
   "cell_type": "code",
   "execution_count": 1,
   "metadata": {},
   "outputs": [],
   "source": [
    "import os.path as osp\n",
    "import glob\n",
    "import cv2\n",
    "import numpy as np\n",
    "import torch\n",
    "import ESRGAN.RRDBNet_arch as arch\n",
    "from math import log10, sqrt"
   ]
  },
  {
   "cell_type": "code",
   "execution_count": 2,
   "metadata": {},
   "outputs": [],
   "source": [
    "raw_img_folder = 'raw_pictures/*'"
   ]
  },
  {
   "cell_type": "code",
   "execution_count": 3,
   "metadata": {},
   "outputs": [
    {
     "name": "stdout",
     "output_type": "stream",
     "text": [
      "Downscaling Raw Pictures:\n",
      "1 SPQ\n",
      "2 bank\n",
      "3 Straßenschild\n",
      "4 karl_kegel_bau\n",
      "5 Garten\n",
      "6 Frosch\n",
      "7 Hund\n",
      "8 Schlossplatz\n"
     ]
    }
   ],
   "source": [
    "id = 0\n",
    "print(\"Downscaling Raw Pictures:\")\n",
    "for path in glob.glob(raw_img_folder):\n",
    "    id += 1\n",
    "    base = osp.splitext(osp.basename(path))[0]\n",
    "    print(id, base)\n",
    "    # read images\n",
    "    raw = cv2.imread(path)\n",
    "    new_height = int(raw.shape[0] / 4)\n",
    "    new_width = int(raw.shape[1] / 4)\n",
    "    dimension = (new_width, new_height)\n",
    "    lowres = cv2.resize(raw,dimension)\n",
    "    #cv2.imwrite(\"lowres/Hund.png\", lowres)\n",
    "    cv2.imwrite('lowres/{:s}.png'.format(base), lowres)"
   ]
  },
  {
   "cell_type": "code",
   "execution_count": 4,
   "metadata": {},
   "outputs": [],
   "source": [
    "model_path = 'ESRGAN/models/RRDB_ESRGAN_x4.pth'  # models/RRDB_ESRGAN_x4.pth OR models/RRDB_PSNR_x4.pth\n",
    "device = torch.device('cuda')  # if you want to run on CPU, change 'cuda' -> cpu"
   ]
  },
  {
   "cell_type": "code",
   "execution_count": 5,
   "metadata": {},
   "outputs": [],
   "source": [
    "test_img_folder = 'lowres/*'"
   ]
  },
  {
   "cell_type": "code",
   "execution_count": 6,
   "metadata": {},
   "outputs": [],
   "source": [
    "model = arch.RRDBNet(3, 3, 64, 23, gc=32)\n",
    "model.load_state_dict(torch.load(model_path), strict=True)\n",
    "model.eval()\n",
    "model = model.to(device)"
   ]
  },
  {
   "cell_type": "code",
   "execution_count": 7,
   "metadata": {},
   "outputs": [
    {
     "name": "stdout",
     "output_type": "stream",
     "text": [
      "Model path ESRGAN/models/RRDB_ESRGAN_x4.pth. \n",
      "Testing...\n",
      "1 SPQ\n",
      "2 bank\n",
      "3 Straßenschild\n",
      "4 karl_kegel_bau\n",
      "5 Garten\n",
      "6 Frosch\n",
      "7 Hund\n",
      "8 Schlossplatz\n"
     ]
    }
   ],
   "source": [
    "idx = 0\n",
    "print('Model path {:s}. \\nTesting...'.format(model_path))\n",
    "for path in glob.glob(test_img_folder):\n",
    "    idx += 1\n",
    "    base = osp.splitext(osp.basename(path))[0]\n",
    "    print(idx, base)\n",
    "    # read images\n",
    "    img = cv2.imread(path, cv2.IMREAD_COLOR)\n",
    "    img = img * 1.0 / 255\n",
    "    img = torch.from_numpy(np.transpose(img[:, :, [2, 1, 0]], (2, 0, 1))).float()\n",
    "    img_LR = img.unsqueeze(0)\n",
    "    img_LR = img_LR.to(device)\n",
    "\n",
    "    with torch.no_grad():\n",
    "        output = model(img_LR).data.squeeze().float().cpu().clamp_(0, 1).numpy()\n",
    "    output = np.transpose(output[[2, 1, 0], :, :], (1, 2, 0))\n",
    "    output = (output * 255.0).round()\n",
    "    cv2.imwrite('results/{:s}.png'.format(base), output)"
   ]
  },
  {
   "cell_type": "code",
   "execution_count": 8,
   "metadata": {},
   "outputs": [
    {
     "name": "stdout",
     "output_type": "stream",
     "text": [
      "Calculating SNRs:\n",
      "1 SPQ\n",
      "SNR: 29.84 dB\n",
      "2 bank\n",
      "SNR: 28.26 dB\n",
      "3 Straßenschild\n",
      "SNR: 28.85 dB\n",
      "4 karl_kegel_bau\n",
      "SNR: 29.53 dB\n",
      "5 Garten\n",
      "SNR: 28.29 dB\n",
      "6 Frosch\n",
      "SNR: 29.28 dB\n",
      "7 Hund\n",
      "SNR: 31.26 dB\n",
      "8 Schlossplatz\n",
      "SNR: 29.37 dB\n"
     ]
    }
   ],
   "source": [
    "results_folder = 'results/*'\n",
    "def PSNR(original, sr):\n",
    "    mse = np.mean((original - sr) ** 2)\n",
    "    if(mse == 0):  # MSE is zero means no noise is present in the signal .\n",
    "                  # Therefore PSNR have no importance.\n",
    "        return 100\n",
    "    max_pixel = 255.0\n",
    "    psnr = 20 * log10(max_pixel / sqrt(mse))\n",
    "    return psnr\n",
    "\n",
    "idy = 0\n",
    "print(\"Calculating SNRs:\")\n",
    "for path in glob.glob(results_folder):\n",
    "    idy += 1\n",
    "    base = osp.splitext(osp.basename(path))[0]\n",
    "    print(idy, base)\n",
    "    raw = cv2.imread(\"raw_pictures/{}.png\" .format(base))\n",
    "    sr = cv2.imread(\"results/{}.png\" .format(base))\n",
    "    value =str(round(PSNR(raw, sr),2))\n",
    "    print(\"SNR: \"+ value +\" dB\")\n",
    "\n",
    "  "
   ]
  }
 ],
 "metadata": {
  "kernelspec": {
   "display_name": "Python 3",
   "language": "python",
   "name": "python3"
  },
  "language_info": {
   "codemirror_mode": {
    "name": "ipython",
    "version": 3
   },
   "file_extension": ".py",
   "mimetype": "text/x-python",
   "name": "python",
   "nbconvert_exporter": "python",
   "pygments_lexer": "ipython3",
   "version": "3.9.5"
  },
  "orig_nbformat": 4
 },
 "nbformat": 4,
 "nbformat_minor": 2
}
