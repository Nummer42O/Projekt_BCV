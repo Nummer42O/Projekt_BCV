{
 "cells": [
  {
   "cell_type": "code",
   "execution_count": 1,
   "metadata": {},
   "outputs": [],
   "source": [
    "import numpy as np\n",
    "import cv2 as cv\n",
    "import matplotlib.pyplot as plt\n",
    "import matplotlib as mpl"
   ]
  },
  {
   "cell_type": "code",
   "execution_count": 2,
   "metadata": {},
   "outputs": [],
   "source": [
    "def sinc2D(x: np.ndarray, y: np.ndarray):\n",
    "    sqrt = np.sqrt(np.power(x, 2) + np.power(y, 2));\n",
    "    return np.sin(sqrt) / sqrt;"
   ]
  },
  {
   "cell_type": "code",
   "execution_count": 3,
   "metadata": {},
   "outputs": [],
   "source": [
    "#https://stackoverflow.com/a/53816322/7976097\n",
    "def plotImageNoResize(img: np.ndarray):\n",
    "    dpi = mpl.rcParams['figure.dpi'];\n",
    "    height, width, _ = img.shape;\n",
    "\n",
    "    fig = plt.figure(figsize=(width / dpi, height / dpi))\n",
    "    ax = fig.add_axes([0, 0, 1, 1])\n",
    "\n",
    "    ax.axis('off')\n",
    "\n",
    "    ax.imshow(img);"
   ]
  },
  {
   "cell_type": "code",
   "execution_count": 4,
   "metadata": {},
   "outputs": [],
   "source": [
    "img = cv.imread(\"/home/johannes/Desktop/example_image_smoll.png\");\n",
    "img = cv.cvtColor(img, cv.COLOR_BGR2RGB);"
   ]
  },
  {
   "cell_type": "code",
   "execution_count": 5,
   "metadata": {},
   "outputs": [],
   "source": [
    "double_size_img = np.zeros(shape=(img.shape[0] * 2, img.shape[1] * 2, img.shape[2]), dtype=np.float32);\n",
    "double_size_img[::2, ::2, :] = img;"
   ]
  },
  {
   "cell_type": "code",
   "execution_count": 6,
   "metadata": {},
   "outputs": [],
   "source": [
    "double_size_img_copy = double_size_img.copy();"
   ]
  },
  {
   "cell_type": "code",
   "execution_count": 7,
   "metadata": {},
   "outputs": [
    {
     "data": {
      "image/png": "[encoded data removed]",
      "text/plain": [
       "<Figure size 32x13 with 1 Axes>"
      ]
     },
     "metadata": {},
     "output_type": "display_data"
    },
    {
     "name": "stderr",
     "output_type": "stream",
     "text": [
      "Clipping input data to the valid range for imshow with RGB data ([0..1] for floats or [0..255] for integers).\n"
     ]
    },
    {
     "data": {
      "image/png": "[encoded data removed]",
      "text/plain": [
       "<Figure size 64x26 with 1 Axes>"
      ]
     },
     "metadata": {},
     "output_type": "display_data"
    }
   ],
   "source": [
    "plotImageNoResize(img);\n",
    "plt.show();\n",
    "plotImageNoResize(double_size_img_copy);\n",
    "plt.show();"
   ]
  },
  {
   "cell_type": "code",
   "execution_count": 8,
   "metadata": {},
   "outputs": [],
   "source": [
    "#all image coordinates that do not have values from the old image\n",
    "new_x_indices = [];\n",
    "new_y_indices = [];\n",
    "\n",
    "old_x_indices = [];\n",
    "old_y_indices = [];\n",
    "\n",
    "for x in range(double_size_img.shape[0]):\n",
    "    for y in range(double_size_img.shape[1]):\n",
    "        if (x % 2 != 0 or y % 2 != 0):\n",
    "            new_x_indices.append(x);\n",
    "            new_y_indices.append(y);\n",
    "        else:\n",
    "            old_x_indices.append(x);\n",
    "            old_y_indices.append(y);"
   ]
  },
  {
   "cell_type": "code",
   "execution_count": 9,
   "metadata": {},
   "outputs": [],
   "source": [
    "#sanity check: this sum should only ever evaluate to 0 since we aim to add only 0 fields\n",
    "assert np.sum(double_size_img[new_x_indices, new_y_indices, :]) == 0"
   ]
  },
  {
   "cell_type": "code",
   "execution_count": 10,
   "metadata": {},
   "outputs": [],
   "source": [
    "new_x_indices = np.array(new_x_indices);\n",
    "new_y_indices = np.array(new_y_indices);"
   ]
  },
  {
   "cell_type": "code",
   "execution_count": 11,
   "metadata": {},
   "outputs": [],
   "source": [
    "for old_x in old_x_indices:\n",
    "    for old_y in old_y_indices:\n",
    "        for channel in range(double_size_img.shape[2]):\n",
    "            double_size_img[new_x_indices, new_y_indices, channel] = \\\n",
    "                np.sum(\n",
    "                    double_size_img[old_x, old_y, channel] * \\\n",
    "                        sinc2D(\n",
    "                            np.pi/2 * (new_x_indices - old_x),\n",
    "                            np.pi/2 * (new_y_indices - old_y)\n",
    "                        )\n",
    "                )"
   ]
  },
  {
   "cell_type": "code",
   "execution_count": 12,
   "metadata": {},
   "outputs": [],
   "source": [
    "double_size_img = (255 * double_size_img / np.max(double_size_img)).astype(np.uint8);"
   ]
  },
  {
   "cell_type": "code",
   "execution_count": 13,
   "metadata": {},
   "outputs": [
    {
     "data": {
      "image/png": "[encoded data removed]",
      "text/plain": [
       "<Figure size 64x26 with 1 Axes>"
      ]
     },
     "metadata": {},
     "output_type": "display_data"
    }
   ],
   "source": [
    "plotImageNoResize(double_size_img);\n",
    "plt.show();"
   ]
  },
  {
   "cell_type": "code",
   "execution_count": 14,
   "metadata": {},
   "outputs": [],
   "source": [
    "cv.imwrite(\"spaced_out.png\", double_size_img_copy);\n",
    "cv.imwrite(\"interpolated.png\", double_size_img);"
   ]
  },
  {
   "cell_type": "code",
   "execution_count": 15,
   "metadata": {},
   "outputs": [
    {
     "data": {
      "text/plain": [
       "array([157], dtype=uint8)"
      ]
     },
     "execution_count": 15,
     "metadata": {},
     "output_type": "execute_result"
    }
   ],
   "source": [
    "np.unique(double_size_img[new_x_indices, new_y_indices, 0])"
   ]
  }
 ],
 "metadata": {
  "kernelspec": {
   "display_name": "Python 3",
   "language": "python",
   "name": "python3"
  },
  "language_info": {
   "codemirror_mode": {
    "name": "ipython",
    "version": 3
   },
   "file_extension": ".py",
   "mimetype": "text/x-python",
   "name": "python",
   "nbconvert_exporter": "python",
   "pygments_lexer": "ipython3",
   "version": "3.8.10"
  },
  "orig_nbformat": 4
 },
 "nbformat": 4,
 "nbformat_minor": 2
}
